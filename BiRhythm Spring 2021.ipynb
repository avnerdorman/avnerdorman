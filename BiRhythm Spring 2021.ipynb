{
 "cells": [
  {
   "cell_type": "markdown",
   "metadata": {},
   "source": [
    "# Bi Rhythms"
   ]
  },
  {
   "cell_type": "markdown",
   "metadata": {},
   "source": [
    "First, we always need to import our functions (don't worry if you don't understand what this means, just click on the cell below and hit 'run')"
   ]
  },
  {
   "cell_type": "code",
   "execution_count": null,
   "metadata": {},
   "outputs": [],
   "source": [
    "%matplotlib inline\n",
    "from music21 import *\n",
    "from pattern import *\n",
    "from ShowScore import *"
   ]
  },
  {
   "cell_type": "markdown",
   "metadata": {},
   "source": [
    "A \"bi-Rhythm\" (also known as a [polyrhythm](https://en.wikipedia.org/wiki/Polyrhythm) or a cross-rhythm) occurs when two regular rhythmic patterns conflict with each other. \n",
    "The most common bi-rhythm in Western Music is the hemiola. \n",
    "\n",
    "\n"
   ]
  },
  {
   "cell_type": "markdown",
   "metadata": {},
   "source": [
    "### The biRhythm function "
   ]
  },
  {
   "cell_type": "markdown",
   "metadata": {},
   "source": [
    "We will now create a hemiola using a simple function \n",
    "called biRhythm. \n",
    "\n",
    "(note: this function is written in the Python programming language and therefore we need to pay attention to upper and lower case characters). "
   ]
  },
  {
   "cell_type": "code",
   "execution_count": null,
   "metadata": {},
   "outputs": [],
   "source": [
    "score1 = biRhythm(numerator = 2, \n",
    "              denominator = 3, \n",
    "              pulse_duration = 1/8,\n",
    "              repetitions = 4,\n",
    "              time_sig = '4/4',\n",
    "              composer = 'you') "
   ]
  },
  {
   "cell_type": "markdown",
   "metadata": {},
   "source": [
    "At this point we created a score of the bi-rhtyhm and assigned it to the variable score1. \n",
    "\n",
    "The function showScore() will render the music in the browser. "
   ]
  },
  {
   "cell_type": "code",
   "execution_count": null,
   "metadata": {},
   "outputs": [],
   "source": [
    "showScore(score1)"
   ]
  },
  {
   "cell_type": "markdown",
   "metadata": {
    "scrolled": true
   },
   "source": [
    "The function biRhythm accepts several arguments which will determine the specific result. \n",
    "We can change any of its arguments. \n",
    "\n",
    "Since 4/4 is not the best time signature for this bi-rhythm, lets change the meter to 3/4 and repeat the patterns 4 times. "
   ]
  },
  {
   "cell_type": "code",
   "execution_count": null,
   "metadata": {},
   "outputs": [],
   "source": [
    "score2 = biRhythm(numerator = 8, \n",
    "              denominator = 3, \n",
    "              pulse_duration = 1/16,\n",
    "              repetitions = 6,\n",
    "              time_sig = '4/4',\n",
    "              composer = 'the computer ?') "
   ]
  },
  {
   "cell_type": "code",
   "execution_count": null,
   "metadata": {},
   "outputs": [],
   "source": [
    "showScore(score2)"
   ]
  },
  {
   "cell_type": "markdown",
   "metadata": {},
   "source": [
    "We can also open the score in a music editor using the method show('xml')"
   ]
  },
  {
   "cell_type": "code",
   "execution_count": null,
   "metadata": {},
   "outputs": [],
   "source": [
    "# if you use this on your own computer you can just run the following line\n",
    "score2.show('xml')"
   ]
  },
  {
   "cell_type": "code",
   "execution_count": null,
   "metadata": {},
   "outputs": [],
   "source": [
    "# if you're using a binder, you'll need to save the file and download it and then open it in MuseScore or another program\n",
    "score2.write('xml', 'score2')"
   ]
  },
  {
   "cell_type": "markdown",
   "metadata": {},
   "source": [
    "or view it as a diagram"
   ]
  },
  {
   "cell_type": "code",
   "execution_count": null,
   "metadata": {},
   "outputs": [],
   "source": [
    "score2.plot()"
   ]
  },
  {
   "cell_type": "markdown",
   "metadata": {},
   "source": [
    "or listen to it as a midi file"
   ]
  },
  {
   "cell_type": "code",
   "execution_count": null,
   "metadata": {},
   "outputs": [],
   "source": [
    "score2.show('midi')"
   ]
  },
  {
   "cell_type": "markdown",
   "metadata": {},
   "source": [
    "Lets try a more complex bi-rhythm. Fill in the following function to create a 4 to 3 ratio bi-rhythm with 1/16th note as the pulse duration. \n",
    "\n",
    "When you are done, try to change it to 5 to 3 bi-rhythm. Try to change the time signature to 15/16 (since 5 * 3 = 15 and our duration is 1/16)\n",
    "\n",
    "Notice that we can also include more than one instruction in one cell as long as we hit enter between them."
   ]
  },
  {
   "cell_type": "code",
   "execution_count": null,
   "metadata": {},
   "outputs": [],
   "source": [
    "score3 = biRhythm(numerator = , \n",
    "                  denominator = , \n",
    "                  pulse_duration = ,\n",
    "                  repetitions = 4, \n",
    "                  time_sig = '3/4')\n",
    "\n",
    "showScore(score3)"
   ]
  },
  {
   "cell_type": "markdown",
   "metadata": {},
   "source": [
    "We can try something more complicated\n",
    "\n",
    "Notice that as long as we keep the numbers in the same order, the function knows what they refer to. "
   ]
  },
  {
   "cell_type": "code",
   "execution_count": null,
   "metadata": {},
   "outputs": [],
   "source": [
    "score4 = biRhythm (7, 4, 1/16, 2, '7/4')\n",
    "showScore(score4)\n"
   ]
  },
  {
   "cell_type": "code",
   "execution_count": null,
   "metadata": {},
   "outputs": [],
   "source": [
    "score5 = biRhythm(8, 3, 1/16, 2, '3/4')\n",
    "showScore(score5)\n",
    "score5.plot()"
   ]
  },
  {
   "cell_type": "markdown",
   "metadata": {},
   "source": [
    "Another option for creating bi-rhtyhms is through division of a larger beat. The function division_biRhythm creates those. \n"
   ]
  },
  {
   "cell_type": "code",
   "execution_count": null,
   "metadata": {},
   "outputs": [],
   "source": [
    "Score6 = division_biRhythm(numerator = 2, \n",
    "                           denominator = 3, \n",
    "                           division_duration = 1/4, \n",
    "                           repetitions = 3, \n",
    "                           time_sig = '3/4')\n",
    "\n",
    "showScore(Score6)"
   ]
  },
  {
   "cell_type": "markdown",
   "metadata": {},
   "source": [
    "The nice thing about these functions is that you can go back to any cell and change the parameters and create your own bi-rhythms. \n",
    "\n",
    "Go ahead and try!"
   ]
  },
  {
   "cell_type": "code",
   "execution_count": null,
   "metadata": {},
   "outputs": [],
   "source": [
    "x = score1 + score2"
   ]
  },
  {
   "cell_type": "code",
   "execution_count": null,
   "metadata": {},
   "outputs": [],
   "source": [
    "showScore(x)"
   ]
  },
  {
   "cell_type": "code",
   "execution_count": null,
   "metadata": {},
   "outputs": [],
   "source": [
    "test = score1\n",
    "showScore(test)"
   ]
  },
  {
   "cell_type": "code",
   "execution_count": null,
   "metadata": {},
   "outputs": [],
   "source": []
  },
  {
   "cell_type": "code",
   "execution_count": null,
   "metadata": {},
   "outputs": [],
   "source": []
  }
 ],
 "metadata": {
  "kernelspec": {
   "display_name": "Python 3",
   "language": "python",
   "name": "python3"
  },
  "language_info": {
   "codemirror_mode": {
    "name": "ipython",
    "version": 3
   },
   "file_extension": ".py",
   "mimetype": "text/x-python",
   "name": "python",
   "nbconvert_exporter": "python",
   "pygments_lexer": "ipython3",
   "version": "3.7.3"
  }
 },
 "nbformat": 4,
 "nbformat_minor": 4
}
