{
 "cells": [
  {
   "cell_type": "markdown",
   "metadata": {},
   "source": [
    "# Rhythm and Geometry"
   ]
  },
  {
   "cell_type": "markdown",
   "metadata": {},
   "source": [
    "First, we always need to import our functions (don't worry if you don't understand what this means, just click on the cell below and hit 'run')"
   ]
  },
  {
   "cell_type": "code",
   "execution_count": null,
   "metadata": {},
   "outputs": [],
   "source": [
    "%matplotlib inline\n",
    "from pattern import *\n",
    "from ShowScore import *"
   ]
  },
  {
   "cell_type": "markdown",
   "metadata": {
    "scrolled": true
   },
   "source": [
    "### Six Timlines\n",
    "\n",
    "Below we define the six timelines we discussed in class and assign each to a variable \n"
   ]
  },
  {
   "cell_type": "code",
   "execution_count": null,
   "metadata": {},
   "outputs": [],
   "source": [
    "Shiko = [4, 2, 4, 2, 4]\n",
    "Son = [3, 3, 4, 2, 4]\n",
    "Rumba = [3, 4, 3, 2, 4] \n",
    "Soukous = [3, 3, 4, 1, 5] \n",
    "Gahu = [3, 3, 4, 4, 2]\n",
    "Bossa_Nova = [3, 3, 4, 3, 3]"
   ]
  },
  {
   "cell_type": "markdown",
   "metadata": {},
   "source": [
    "### The function numRhythm\n",
    "\n",
    "The function numRhythm accepts three arguments: \n",
    "\n",
    "1. Numerical presenation of the rhythm (make sure to put it in square brackets and separate using commas]\n",
    "2. A list of pitches (in quotations)\n",
    "3. The pulse unit \n",
    "\n",
    "The function returns a score of the rhythm"
   ]
  },
  {
   "cell_type": "markdown",
   "metadata": {},
   "source": [
    "Lets use numRhythm to create a short score based on the Shiko timeline"
   ]
  },
  {
   "cell_type": "code",
   "execution_count": null,
   "metadata": {},
   "outputs": [],
   "source": [
    "Timeline_Shiko = numRhythm (numerical_list = Shiko, \n",
    "                            pitches = 'c4', \n",
    "                            duration = 1/16)"
   ]
  },
  {
   "cell_type": "code",
   "execution_count": null,
   "metadata": {},
   "outputs": [],
   "source": [
    "showScore(Timeline_Shiko)"
   ]
  },
  {
   "cell_type": "markdown",
   "metadata": {},
   "source": [
    "If we want to repeat the timeline, we can do so with a simple multiplication "
   ]
  },
  {
   "cell_type": "code",
   "execution_count": null,
   "metadata": {
    "scrolled": true
   },
   "outputs": [],
   "source": [
    "Timeline_Shiko = numRhythm (numerical_list = Shiko * 8, # This will repeat Shiko eight times\n",
    "                            pitches = 'c4',\n",
    "                            duration = 1/16)\n"
   ]
  },
  {
   "cell_type": "code",
   "execution_count": null,
   "metadata": {},
   "outputs": [],
   "source": [
    "showScore(Timeline_Shiko)"
   ]
  },
  {
   "cell_type": "markdown",
   "metadata": {},
   "source": [
    "We can also listen to it"
   ]
  },
  {
   "cell_type": "code",
   "execution_count": null,
   "metadata": {},
   "outputs": [],
   "source": [
    "Timeline_Shiko.show('midi')"
   ]
  },
  {
   "cell_type": "markdown",
   "metadata": {},
   "source": [
    "We can also use a list of pitches to combine with the timeline. \n",
    "\n",
    "Notice that the function continues to cycle through the pitches as many times as needed. "
   ]
  },
  {
   "cell_type": "code",
   "execution_count": null,
   "metadata": {},
   "outputs": [],
   "source": [
    "Timeline_Son = numRhythm (numerical_list = Son * 4, \n",
    "                          pitches = 'd4 e4 g4',\n",
    "                          duration = 1/16)\n",
    "showScore(Timeline_Son)"
   ]
  },
  {
   "cell_type": "markdown",
   "metadata": {},
   "source": [
    "### Important note: this will need to be renotated if we want to use it, since the rhythmic notation does not follow best notational practices"
   ]
  },
  {
   "cell_type": "code",
   "execution_count": null,
   "metadata": {},
   "outputs": [],
   "source": [
    "Timeline_Rumba = numRhythm (numerical_list = Rumba * 4, \n",
    "                            pitches = 'd3 a3 d3 a3 a3', \n",
    "                            duration = 1/16)\n",
    "showScore(Timeline_Rumba)"
   ]
  },
  {
   "cell_type": "code",
   "execution_count": null,
   "metadata": {},
   "outputs": [],
   "source": [
    "Timeline_Rumba.show('midi')"
   ]
  },
  {
   "cell_type": "markdown",
   "metadata": {},
   "source": [
    "# Ploting Timelines with Jupyter Notebooks"
   ]
  },
  {
   "cell_type": "markdown",
   "metadata": {},
   "source": [
    "We can plot a timeline on a circle using either the numeric representation or the position of onsets"
   ]
  },
  {
   "cell_type": "code",
   "execution_count": null,
   "metadata": {},
   "outputs": [],
   "source": [
    "plotNumeric(Son)"
   ]
  },
  {
   "cell_type": "markdown",
   "metadata": {},
   "source": [
    "We can do the same by specifying the onsets (in this case, what are they?)"
   ]
  },
  {
   "cell_type": "code",
   "execution_count": null,
   "metadata": {},
   "outputs": [],
   "source": [
    "timelineCircle(pulses = 16, onsets = []) # fill in the onsets"
   ]
  },
  {
   "cell_type": "markdown",
   "metadata": {},
   "source": [
    "if we rotate the onsets one step to the right, what do we get?"
   ]
  },
  {
   "cell_type": "code",
   "execution_count": null,
   "metadata": {},
   "outputs": [],
   "source": [
    "timelineCircle(pulses = 16, onsets = []) # fill in the rotated onsets"
   ]
  },
  {
   "cell_type": "markdown",
   "metadata": {},
   "source": [
    "### makeBinaryRhythm"
   ]
  },
  {
   "cell_type": "markdown",
   "metadata": {},
   "source": [
    "The function makeBinaryRhythm uses the binary notation to represent rhythm. The function takes in: \n",
    "\n"
   ]
  },
  {
   "cell_type": "code",
   "execution_count": null,
   "metadata": {},
   "outputs": [],
   "source": [
    "Tresillo = '10010010'"
   ]
  },
  {
   "cell_type": "code",
   "execution_count": null,
   "metadata": {
    "scrolled": true
   },
   "outputs": [],
   "source": [
    "x = makeBinaryRhythm (Tresillo * 4, 'g4 ', 1/8)\n",
    "showScore(x)"
   ]
  },
  {
   "cell_type": "code",
   "execution_count": null,
   "metadata": {},
   "outputs": [],
   "source": [
    "x2 = makeBinaryRhythm ('10110110101011' * 8, 'c4 d4 eb4 f4 ', 1/8)\n",
    "showScore(x2)"
   ]
  },
  {
   "cell_type": "markdown",
   "metadata": {},
   "source": [
    "We can listen to the result"
   ]
  },
  {
   "cell_type": "code",
   "execution_count": null,
   "metadata": {
    "scrolled": true
   },
   "outputs": [],
   "source": [
    "x2.show('midi')"
   ]
  },
  {
   "cell_type": "markdown",
   "metadata": {},
   "source": [
    "We can also draw the timeline on a circle graph"
   ]
  },
  {
   "cell_type": "code",
   "execution_count": null,
   "metadata": {},
   "outputs": [],
   "source": [
    "plotNumeric(Son)"
   ]
  },
  {
   "cell_type": "markdown",
   "metadata": {},
   "source": [
    "And open it in our favorite notation software where we can create a piece based on this timeline. "
   ]
  },
  {
   "cell_type": "code",
   "execution_count": null,
   "metadata": {},
   "outputs": [],
   "source": [
    "# if you use this on your own computer you can just run the following line\n",
    "x2.show('xml')"
   ]
  },
  {
   "cell_type": "code",
   "execution_count": null,
   "metadata": {},
   "outputs": [],
   "source": [
    "# if you're using a binder, you'll need to save the file and download it and then open it in MuseScore or another program\n",
    "score2.write('xml', 'score2')"
   ]
  },
  {
   "cell_type": "markdown",
   "metadata": {},
   "source": [
    "The plot method shows the periodicity of the rhythms and pitches "
   ]
  },
  {
   "cell_type": "code",
   "execution_count": null,
   "metadata": {},
   "outputs": [],
   "source": [
    "x2.plot()"
   ]
  }
 ],
 "metadata": {
  "kernelspec": {
   "display_name": "Python 3",
   "language": "python",
   "name": "python3"
  },
  "language_info": {
   "codemirror_mode": {
    "name": "ipython",
    "version": 3
   },
   "file_extension": ".py",
   "mimetype": "text/x-python",
   "name": "python",
   "nbconvert_exporter": "python",
   "pygments_lexer": "ipython3",
   "version": "3.7.3"
  }
 },
 "nbformat": 4,
 "nbformat_minor": 4
}
