{
 "cells": [
  {
   "cell_type": "markdown",
   "metadata": {},
   "source": [
    "# Addition Table"
   ]
  },
  {
   "cell_type": "markdown",
   "metadata": {},
   "source": [
    "A simple way to figure out the number of common tones under I<sub>n</sub> is to construct an addition table, with a set written along the vertical and horizontal axes and the sums filling the rows and columns of the table.\n",
    "\n",
    "The code below calculates the number of common tones under inversion using addition tables\n"
   ]
  },
  {
   "cell_type": "code",
   "execution_count": 80,
   "metadata": {},
   "outputs": [],
   "source": [
    "# Create a Pitch-Class Set\n",
    "# Modify the numbers in this list to calculate the addition table for other sets\n",
    "\n",
    "PCset = [3,4,7,8]"
   ]
  },
  {
   "cell_type": "code",
   "execution_count": 81,
   "metadata": {},
   "outputs": [],
   "source": [
    "# Create the addition table by adding every pair of numbers of in the set \n",
    "\n",
    "additionTable = [[(i+j)%12 for i in PCset] for j in PCset]\n"
   ]
  },
  {
   "cell_type": "code",
   "execution_count": 82,
   "metadata": {},
   "outputs": [
    {
     "name": "stdout",
     "output_type": "stream",
     "text": [
      "[[6, 7, 10, 11], [7, 8, 11, 0], [10, 11, 2, 3], [11, 0, 3, 4]]\n"
     ]
    }
   ],
   "source": [
    "# This just prints out the result - each row of the addition table is a sublist\n",
    "\n",
    "print (additionTable)"
   ]
  },
  {
   "cell_type": "code",
   "execution_count": 83,
   "metadata": {},
   "outputs": [],
   "source": [
    "# Import Tabulate \n",
    "# if you don't have this on your computer you can install by typing \"pip install tabulate\"\n",
    "# into terminal (on macs) or the anaconda prompt (on pcs)\n",
    "\n",
    "from tabulate import tabulate"
   ]
  },
  {
   "cell_type": "code",
   "execution_count": 84,
   "metadata": {},
   "outputs": [
    {
     "name": "stdout",
     "output_type": "stream",
     "text": [
      "╒════╤════╤════╤════╕\n",
      "│  6 │  7 │ 10 │ 11 │\n",
      "├────┼────┼────┼────┤\n",
      "│  7 │  8 │ 11 │  0 │\n",
      "├────┼────┼────┼────┤\n",
      "│ 10 │ 11 │  2 │  3 │\n",
      "├────┼────┼────┼────┤\n",
      "│ 11 │  0 │  3 │  4 │\n",
      "╘════╧════╧════╧════╛\n"
     ]
    }
   ],
   "source": [
    "# prints the addition table neatly\n",
    "\n",
    "print (tabulate (additionTable, tablefmt = \"fancy_grid\"))"
   ]
  },
  {
   "cell_type": "code",
   "execution_count": 88,
   "metadata": {},
   "outputs": [
    {
     "name": "stdout",
     "output_type": "stream",
     "text": [
      "I0 will yield 2 common tones\n",
      "I2 will yield 1 common tones\n",
      "I3 will yield 2 common tones\n",
      "I4 will yield 1 common tones\n",
      "I6 will yield 1 common tones\n",
      "I7 will yield 2 common tones\n",
      "I8 will yield 1 common tones\n",
      "I10 will yield 2 common tones\n",
      "I11 maps [3, 4, 7, 8] onto itself!\n"
     ]
    }
   ],
   "source": [
    "# the code below calculates the number of common tones under each inversion \n",
    "# by counting how many instances of each result we have in the addition table\n",
    "\n",
    "flat_list = [item for sublist in additionTable for item in sublist]\n",
    "\n",
    "for i in range (12):\n",
    "    if flat_list.count(i):\n",
    "        if flat_list.count(i) == len(PCset):\n",
    "            print (\"I\" + str(i) + \" maps\", PCset, \"onto itself!\")\n",
    "        else: \n",
    "            print (\"I\" + str(i) + \" will yield\", flat_list.count(i), \"common tones\")\n",
    "    "
   ]
  },
  {
   "cell_type": "code",
   "execution_count": null,
   "metadata": {},
   "outputs": [],
   "source": [
    "\"\""
   ]
  }
 ],
 "metadata": {
  "kernelspec": {
   "display_name": "Python 3",
   "language": "python",
   "name": "python3"
  },
  "language_info": {
   "codemirror_mode": {
    "name": "ipython",
    "version": 3
   },
   "file_extension": ".py",
   "mimetype": "text/x-python",
   "name": "python",
   "nbconvert_exporter": "python",
   "pygments_lexer": "ipython3",
   "version": "3.7.3"
  }
 },
 "nbformat": 4,
 "nbformat_minor": 4
}
