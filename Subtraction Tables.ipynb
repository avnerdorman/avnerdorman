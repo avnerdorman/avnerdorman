{
 "cells": [
  {
   "cell_type": "markdown",
   "metadata": {},
   "source": [
    "# Subtraction Tables"
   ]
  },
  {
   "cell_type": "markdown",
   "metadata": {},
   "source": [
    "A simple way to figure out the number of common tones under T<sub>n</sub> is to construct an subtraction table, with a set written along the vertical and horizontal axes and the sums filling the rows and columns of the table.\n",
    "\n",
    "The code below calculates the number of common tones under transposition using subtraction tables\n"
   ]
  },
  {
   "cell_type": "code",
   "execution_count": 9,
   "metadata": {},
   "outputs": [],
   "source": [
    "# Create a Pitch-Class Set\n",
    "# Modify the numbers in this list to calculate the subtraction table for other sets\n",
    "\n",
    "PCset = [0,1,6,7]"
   ]
  },
  {
   "cell_type": "code",
   "execution_count": 10,
   "metadata": {},
   "outputs": [],
   "source": [
    "# Create the addition table by adding every pair of numbers of in the set \n",
    "\n",
    "subtractionTable = [[(i-j)%12 for i in PCset] for j in PCset]\n"
   ]
  },
  {
   "cell_type": "code",
   "execution_count": 11,
   "metadata": {},
   "outputs": [
    {
     "name": "stdout",
     "output_type": "stream",
     "text": [
      "[[0, 1, 6, 7], [11, 0, 5, 6], [6, 7, 0, 1], [5, 6, 11, 0]]\n"
     ]
    }
   ],
   "source": [
    "# This just prints out the result - each row of the addition table is a sublist\n",
    "\n",
    "print (subtractionTable)"
   ]
  },
  {
   "cell_type": "code",
   "execution_count": 13,
   "metadata": {},
   "outputs": [
    {
     "name": "stdout",
     "output_type": "stream",
     "text": [
      "Requirement already satisfied: tabulate in /anaconda3/lib/python3.7/site-packages (0.8.7)\n",
      "Note: you may need to restart the kernel to use updated packages.\n"
     ]
    }
   ],
   "source": [
    "# Import Tabulate \n",
    "%pip install tabulate\n",
    "from tabulate import tabulate"
   ]
  },
  {
   "cell_type": "code",
   "execution_count": 14,
   "metadata": {},
   "outputs": [
    {
     "name": "stdout",
     "output_type": "stream",
     "text": [
      "╒════╤═══╤════╤═══╕\n",
      "│  0 │ 1 │  6 │ 7 │\n",
      "├────┼───┼────┼───┤\n",
      "│ 11 │ 0 │  5 │ 6 │\n",
      "├────┼───┼────┼───┤\n",
      "│  6 │ 7 │  0 │ 1 │\n",
      "├────┼───┼────┼───┤\n",
      "│  5 │ 6 │ 11 │ 0 │\n",
      "╘════╧═══╧════╧═══╛\n"
     ]
    }
   ],
   "source": [
    "# prints the addition table neatly\n",
    "\n",
    "print (tabulate (subtractionTable, tablefmt = \"fancy_grid\"))"
   ]
  },
  {
   "cell_type": "code",
   "execution_count": 15,
   "metadata": {},
   "outputs": [
    {
     "name": "stdout",
     "output_type": "stream",
     "text": [
      "T0 maps [0, 1, 6, 7] onto itself!\n",
      "T1 will yield 2 common tones\n",
      "T5 will yield 2 common tones\n",
      "T6 maps [0, 1, 6, 7] onto itself!\n",
      "T7 will yield 2 common tones\n",
      "T11 will yield 2 common tones\n"
     ]
    }
   ],
   "source": [
    "# the code below calculates the number of common tones under each inversion \n",
    "# by counting how many instances of each result we have in the addition table\n",
    "\n",
    "flat_list = [item for sublist in subtractionTable for item in sublist]\n",
    "\n",
    "for i in range (12):\n",
    "    if flat_list.count(i):\n",
    "        if flat_list.count(i) == len(PCset):\n",
    "            print (\"T\" + str(i) + \" maps\", PCset, \"onto itself!\")\n",
    "        else: \n",
    "            print (\"T\" + str(i) + \" will yield\", flat_list.count(i), \"common tones\")\n",
    "    "
   ]
  }
 ],
 "metadata": {
  "kernelspec": {
   "display_name": "Python 3",
   "language": "python",
   "name": "python3"
  },
  "language_info": {
   "codemirror_mode": {
    "name": "ipython",
    "version": 3
   },
   "file_extension": ".py",
   "mimetype": "text/x-python",
   "name": "python",
   "nbconvert_exporter": "python",
   "pygments_lexer": "ipython3",
   "version": "3.7.3"
  }
 },
 "nbformat": 4,
 "nbformat_minor": 4
}
